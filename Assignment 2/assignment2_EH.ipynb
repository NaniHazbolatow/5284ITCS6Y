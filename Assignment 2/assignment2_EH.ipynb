{
 "cells": [
  {
   "cell_type": "code",
   "execution_count": 1,
   "metadata": {},
   "outputs": [],
   "source": [
    "import numpy as np\n",
    "import math"
   ]
  },
  {
   "cell_type": "markdown",
   "metadata": {},
   "source": [
    "### Implementation of SIR with GA\n",
    "We provide the Gillespie’s First Reaction Method below:\n",
    "1. Label all events $E_1,..., E_n$\n",
    "2. For each event, determine rate of occurence $R_1,...,R_N$\n",
    "3. Calculate time of occurence for each event $\\delta_t = \\frac{-1}{R_m}ln(u)$\n",
    "4. Find event with lowest $\\delta_t$\n",
    "5. Perform update $t \\longrightarrow t + \\delta_t$ and event $p$\n",
    "\n",
    "In our implemntation of SIR, we make use of a dictionary to store rates. Accessing using keys is $O(1)$. In addition, we can use `.values()`, which is important for Step 3. So, for Step 1 and 2, we create a dictionary such that\n",
    "```\n",
    "event_rate = {\n",
    "    E_1 : R_1\n",
    "    E_2 : R_2\n",
    "    E_N : R_N\n",
    "}\n",
    "```\n",
    "Then, compute array $\\vec{\\delta_t} = \\frac{-1}{R_m}\\ln(u)$, perform `np.argmin()`, index dictionary by position. To perform the update, I don't know yet. We could opt for some sort of transition matrix (a la Markovian) which makes sort of sense, since this algorithm does use ideas from Markov. I definitely want to avoid making a whole list of if-elses or even case-switch statements.  In the end what we do here should be easily expandable to more events and more rates."
   ]
  },
  {
   "cell_type": "code",
   "execution_count": 18,
   "metadata": {},
   "outputs": [],
   "source": [
    "beta = 0.5\n",
    "gamma = 0.2\n",
    "mu = 1/20\n",
    "N = 1000\n",
    "X = 990\n",
    "Y = N - X\n",
    "R = 0\n",
    "\n",
    "rates = {\n",
    "    \"E_b\": mu * N,\n",
    "    \"E_t\": beta * (X * Y / N),\n",
    "    \"E_r\": gamma * Y,\n",
    "    \"E_dX\": mu * X,\n",
    "    \"E_dY\": mu * Y,\n",
    "    \"E_dR\": mu * R,\n",
    "}"
   ]
  },
  {
   "cell_type": "code",
   "execution_count": 19,
   "metadata": {},
   "outputs": [
    {
     "data": {
      "text/plain": [
       "{'E_b': 50.0, 'E_t': 4.95, 'E_r': 2.0, 'E_dX': 49.5, 'E_dY': 0.5, 'E_dR': 0.0}"
      ]
     },
     "execution_count": 19,
     "metadata": {},
     "output_type": "execute_result"
    }
   ],
   "source": [
    "rates"
   ]
  }
 ],
 "metadata": {
  "kernelspec": {
   "display_name": "IntroComputationalScience",
   "language": "python",
   "name": "python3"
  },
  "language_info": {
   "codemirror_mode": {
    "name": "ipython",
    "version": 3
   },
   "file_extension": ".py",
   "mimetype": "text/x-python",
   "name": "python",
   "nbconvert_exporter": "python",
   "pygments_lexer": "ipython3",
   "version": "3.12.4"
  }
 },
 "nbformat": 4,
 "nbformat_minor": 2
}
