{
 "cells": [
  {
   "cell_type": "code",
   "execution_count": 1,
   "metadata": {},
   "outputs": [],
   "source": [
    "import numpy as np\n",
    "import math"
   ]
  },
  {
   "cell_type": "markdown",
   "metadata": {},
   "source": [
    "### Implementation of SIR with GA\n",
    "We provide the Gillespie’s First Reaction Method below:\n",
    "1. Label all events $E_1,..., E_n$\n",
    "2. For each event, determine rate of occurence $R_1,...,R_N$\n",
    "3. Calculate time of occurence for each event $\\delta_t = \\frac{-1}{R_m}ln(u)$\n",
    "4. Find event with lowest $\\delta_t$\n",
    "5. Perform update $t \\longrightarrow t + \\delta_t$ and event $p$\n",
    "\n",
    "In our implemntation of SIR, we make use of a dictionary to store rates. Accessing using keys is $O(1)$. In addition, we can use `.values()`, which is important for Step 3. So, for Step 1 and 2, we create a dictionary such that\n",
    "```\n",
    "event_rate = {\n",
    "    E_1 : R_1\n",
    "    E_2 : R_2\n",
    "    E_N : R_N\n",
    "}\n",
    "```\n",
    "Then, compute array $\\vec{\\delta_t} = \\frac{-1}{R_m}\\ln(u)$, perform `np.argmin()`, index dictionary by position. To perform the update, I don't know yet. We could opt for some sort of transition matrix (a la Markovian) which makes sort of sense, since this algorithm does use ideas from Markov. I definitely want to avoid making a whole list of if-elses or even case-switch statements.  In the end what we do here should be easily expandable to more events and more rates."
   ]
  },
  {
   "cell_type": "code",
   "execution_count": 13,
   "metadata": {},
   "outputs": [],
   "source": [
    "rates = {\n",
    "    \"E_b\": mu * N,\n",
    "    \"E_t\": beta * (X * Y / N),\n",
    "    \"E_r\": gamma * Y,\n",
    "    \"E_dX\": mu * X,\n",
    "    \"E_dY\": mu * Y,\n",
    "    \"E_dR\": mu * R,\n",
    "}"
   ]
  },
  {
   "cell_type": "code",
   "execution_count": null,
   "metadata": {},
   "outputs": [],
   "source": []
  },
  {
   "cell_type": "code",
   "execution_count": 14,
   "metadata": {},
   "outputs": [],
   "source": [
    "beta = 0.5\n",
    "gamma = 0.2\n",
    "mu = 1/20\n",
    "N = 1000\n",
    "X = 990\n",
    "Y = N - X\n",
    "R = 0"
   ]
  },
  {
   "cell_type": "code",
   "execution_count": 16,
   "metadata": {},
   "outputs": [
    {
     "data": {
      "text/plain": [
       "{'E_b': 10.0,\n",
       " 'E_t': 9.869,\n",
       " 'E_r': 7.1000000000000005,\n",
       " 'E_dX': 2.7800000000000002,\n",
       " 'E_dY': 0.71,\n",
       " 'E_dR': 6.37}"
      ]
     },
     "execution_count": 16,
     "metadata": {},
     "output_type": "execute_result"
    }
   ],
   "source": []
  }
 ],
 "metadata": {
  "kernelspec": {
   "display_name": "IntroComputationalScience",
   "language": "python",
   "name": "python3"
  },
  "language_info": {
   "codemirror_mode": {
    "name": "ipython",
    "version": 3
   },
   "file_extension": ".py",
   "mimetype": "text/x-python",
   "name": "python",
   "nbconvert_exporter": "python",
   "pygments_lexer": "ipython3",
   "version": "3.12.4"
  }
 },
 "nbformat": 4,
 "nbformat_minor": 2
}
